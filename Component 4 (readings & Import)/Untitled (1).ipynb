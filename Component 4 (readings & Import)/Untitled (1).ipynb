{
 "cells": [
  {
   "cell_type": "code",
   "execution_count": 1,
   "id": "e7389d4e",
   "metadata": {},
   "outputs": [
    {
     "name": "stdout",
     "output_type": "stream",
     "text": [
      "Error reading the CSV file: 'utf-8' codec can't decode byte 0xb6 in position 10: invalid start byte\n",
      "Error inserting data into the database: name 'df' is not defined\n"
     ]
    }
   ],
   "source": [
    "import pandas as pd\n",
    "import mysql.connector\n",
    "\n",
    "# Connecting database information\n",
    "db_config = {\n",
    "    \"host\": \"localhost\",\n",
    "    \"user\": \"root\",    \n",
    "    \"password\": \"\",    \n",
    "    \"database\": \"pizza_sales\"    \n",
    "}\n",
    "\n",
    "csv_file_path = \"/Users/aghedoemmanuel/Desktop/MySQLstuffs/order_details.csv\" \n",
    "\n",
    "\n",
    "table_name = \"order_details\"\n",
    "\n",
    "try:\n",
    "    df = pd.read_csv(csv_file_path)\n",
    "    \n",
    "    # We rename column 'Site_ID' to 'Station_Site_ID' so as to match with the csv data\n",
    "    if 'Site_ID' in df.columns:\n",
    "        df.rename(columns={\"Site_ID\": \"Station_Site_ID\"}, inplace=True)\n",
    "    else:\n",
    "        print(\"Column 'Site_ID' not found in the CSV file.\")\n",
    "        exit()\n",
    "    \n",
    "    # Remove rows with null values in 'Station_Site_ID'\n",
    "    if 'Station_Site_ID' in df.columns:\n",
    "        df.dropna(subset=['Station_Site_ID'], inplace=True)\n",
    "        print(f\"Rows with null 'Station_Site_ID' removed. Remaining rows: {len(df)}\")\n",
    "    else:\n",
    "        print(\"Column 'Station_Site_ID' not found in the dataset after renaming.\")\n",
    "        exit()\n",
    "    \n",
    "    # Reformat 'Date_Time' to match MySQL datetime format\n",
    "    if 'Date_Time' in df.columns:\n",
    "        df['Date_Time'] = pd.to_datetime(df['Date_Time'], errors='coerce')  # Convert to datetime\n",
    "        df['Date_Time'] = df['Date_Time'].dt.strftime('%Y-%m-%d %H:%M:%S')  # Format as MySQL datetime\n",
    "        if df['Date_Time'].isnull().any():\n",
    "            print(\"Warning: Some 'Date_Time' values could not be converted. Check the data.\")\n",
    "    else:\n",
    "        print(\"Column 'Date_Time' not found in the dataset.\")\n",
    "        exit()\n",
    "except Exception as e:\n",
    "    print(f\"Error reading the CSV file: {e}\")\n",
    "    exit()\n",
    "\n",
    "try:\n",
    "    connection = mysql.connector.connect(**db_config)\n",
    "    cursor = connection.cursor()\n",
    "except mysql.connector.Error as err:\n",
    "    print(f\"Database connection error: {err}\")\n",
    "    exit()\n",
    "\n",
    "\n",
    "try:\n",
    "    for _, row in df.iterrows():\n",
    "        # Create an SQL INSERT query with placeholders\n",
    "        placeholders = \", \".join([\"%s\"] * len(df.columns))\n",
    "        columns = \", \".join(df.columns)\n",
    "        sql_query = f\"INSERT INTO {table_name} ({columns}) VALUES ({placeholders})\"\n",
    "        \n",
    "        # Execute the query with row data\n",
    "        cursor.execute(sql_query, tuple(row))\n",
    "    \n",
    "    # Commit the transaction\n",
    "    connection.commit()\n",
    "    print(\"Data imported successfully.\")\n",
    "except Exception as e:\n",
    "    connection.rollback()\n",
    "    print(f\"Error inserting data into the database: {e}\")\n",
    "finally:\n",
    "    cursor.close()\n",
    "    connection.close()\n"
   ]
  },
  {
   "cell_type": "code",
   "execution_count": null,
   "id": "7ee19c4d",
   "metadata": {},
   "outputs": [],
   "source": []
  }
 ],
 "metadata": {
  "kernelspec": {
   "display_name": "Python 3 (ipykernel)",
   "language": "python",
   "name": "python3"
  },
  "language_info": {
   "codemirror_mode": {
    "name": "ipython",
    "version": 3
   },
   "file_extension": ".py",
   "mimetype": "text/x-python",
   "name": "python",
   "nbconvert_exporter": "python",
   "pygments_lexer": "ipython3",
   "version": "3.9.13"
  }
 },
 "nbformat": 4,
 "nbformat_minor": 5
}
